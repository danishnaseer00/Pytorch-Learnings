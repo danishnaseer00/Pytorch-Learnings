{
  "nbformat": 4,
  "nbformat_minor": 0,
  "metadata": {
    "colab": {
      "provenance": []
    },
    "kernelspec": {
      "name": "python3",
      "display_name": "Python 3"
    },
    "language_info": {
      "name": "python"
    }
  },
  "cells": [
    {
      "cell_type": "markdown",
      "source": [
        "# ***Pytorch Practice***"
      ],
      "metadata": {
        "id": "vIVMepBUeZvU"
      }
    },
    {
      "cell_type": "code",
      "execution_count": 27,
      "metadata": {
        "id": "Cdc5Nug6-K1l"
      },
      "outputs": [],
      "source": [
        "import torch"
      ]
    },
    {
      "cell_type": "code",
      "source": [
        "torch.tensor(2)"
      ],
      "metadata": {
        "colab": {
          "base_uri": "https://localhost:8080/"
        },
        "id": "3UpJxWY3-Oy2",
        "outputId": "ef018e02-6e8e-4434-945a-4c540872993c"
      },
      "execution_count": null,
      "outputs": [
        {
          "output_type": "execute_result",
          "data": {
            "text/plain": [
              "tensor(2)"
            ]
          },
          "metadata": {},
          "execution_count": 3
        }
      ]
    },
    {
      "cell_type": "code",
      "source": [
        "torch.tensor([1,2,3])"
      ],
      "metadata": {
        "colab": {
          "base_uri": "https://localhost:8080/"
        },
        "id": "l4Iv-Mdm-c86",
        "outputId": "034947bc-8976-4ba1-80bf-ae4afbe924c9"
      },
      "execution_count": null,
      "outputs": [
        {
          "output_type": "execute_result",
          "data": {
            "text/plain": [
              "tensor([1, 2, 3])"
            ]
          },
          "metadata": {},
          "execution_count": 4
        }
      ]
    },
    {
      "cell_type": "code",
      "source": [
        "torch.ones((2,3))"
      ],
      "metadata": {
        "colab": {
          "base_uri": "https://localhost:8080/"
        },
        "id": "VyWp7Ria-p8-",
        "outputId": "5b95278d-f5ac-4cf8-f471-dfa7d211a715"
      },
      "execution_count": null,
      "outputs": [
        {
          "output_type": "execute_result",
          "data": {
            "text/plain": [
              "tensor([[1., 1., 1.],\n",
              "        [1., 1., 1.]])"
            ]
          },
          "metadata": {},
          "execution_count": 5
        }
      ]
    },
    {
      "cell_type": "code",
      "source": [
        "torch.zeros((3,3))"
      ],
      "metadata": {
        "colab": {
          "base_uri": "https://localhost:8080/"
        },
        "id": "DWB7Em-K-xSC",
        "outputId": "55c407fd-772e-4717-8949-f1ecd41e3799"
      },
      "execution_count": null,
      "outputs": [
        {
          "output_type": "execute_result",
          "data": {
            "text/plain": [
              "tensor([[0., 0., 0.],\n",
              "        [0., 0., 0.],\n",
              "        [0., 0., 0.]])"
            ]
          },
          "metadata": {},
          "execution_count": 6
        }
      ]
    },
    {
      "cell_type": "code",
      "source": [
        "torch.zeros(93)"
      ],
      "metadata": {
        "colab": {
          "base_uri": "https://localhost:8080/"
        },
        "id": "_sQW0aeI-4U_",
        "outputId": "9e35e9fd-d6d4-4b5d-afdf-01b6c055db9d"
      },
      "execution_count": null,
      "outputs": [
        {
          "output_type": "execute_result",
          "data": {
            "text/plain": [
              "tensor([0., 0., 0., 0., 0., 0., 0., 0., 0., 0., 0., 0., 0., 0., 0., 0., 0., 0., 0., 0., 0., 0., 0., 0.,\n",
              "        0., 0., 0., 0., 0., 0., 0., 0., 0., 0., 0., 0., 0., 0., 0., 0., 0., 0., 0., 0., 0., 0., 0., 0.,\n",
              "        0., 0., 0., 0., 0., 0., 0., 0., 0., 0., 0., 0., 0., 0., 0., 0., 0., 0., 0., 0., 0., 0., 0., 0.,\n",
              "        0., 0., 0., 0., 0., 0., 0., 0., 0., 0., 0., 0., 0., 0., 0., 0., 0., 0., 0., 0., 0.])"
            ]
          },
          "metadata": {},
          "execution_count": 12
        }
      ]
    },
    {
      "cell_type": "code",
      "source": [
        "torch.rand(5)"
      ],
      "metadata": {
        "colab": {
          "base_uri": "https://localhost:8080/"
        },
        "id": "h5bZU7b7_KXw",
        "outputId": "58f80b5f-da2b-4456-fde0-c29aefcd2bcd"
      },
      "execution_count": null,
      "outputs": [
        {
          "output_type": "execute_result",
          "data": {
            "text/plain": [
              "tensor([0.7726, 0.4442, 0.5262, 0.0096, 0.8282])"
            ]
          },
          "metadata": {},
          "execution_count": 13
        }
      ]
    },
    {
      "cell_type": "code",
      "source": [
        "torch.rand((2,2))"
      ],
      "metadata": {
        "colab": {
          "base_uri": "https://localhost:8080/"
        },
        "id": "Pphxf-3R_PZw",
        "outputId": "86d96bcf-3e9f-4226-9416-725a3004da23"
      },
      "execution_count": null,
      "outputs": [
        {
          "output_type": "execute_result",
          "data": {
            "text/plain": [
              "tensor([[0.8198, 0.8161],\n",
              "        [0.7878, 0.4645]])"
            ]
          },
          "metadata": {},
          "execution_count": 14
        }
      ]
    },
    {
      "cell_type": "code",
      "source": [
        "torch.randn((5,5))"
      ],
      "metadata": {
        "colab": {
          "base_uri": "https://localhost:8080/"
        },
        "id": "HC8CSexr_T60",
        "outputId": "1391647b-4ee7-4c16-8878-38e0e7168fb2"
      },
      "execution_count": null,
      "outputs": [
        {
          "output_type": "execute_result",
          "data": {
            "text/plain": [
              "tensor([[-0.3118,  1.2864, -0.0601,  0.2492,  0.7290],\n",
              "        [ 1.8787, -1.2882,  1.1359,  0.1237,  0.0101],\n",
              "        [ 1.1216, -1.0845, -0.1381,  1.0926,  0.0491],\n",
              "        [-0.6080, -0.5077, -0.8302, -1.1316,  0.4332],\n",
              "        [ 0.0266, -1.1289, -1.6785, -0.7189, -0.2613]])"
            ]
          },
          "metadata": {},
          "execution_count": 15
        }
      ]
    },
    {
      "cell_type": "code",
      "source": [
        "torch.arange(0,10,0.01)"
      ],
      "metadata": {
        "colab": {
          "base_uri": "https://localhost:8080/"
        },
        "id": "VXRt_fFO_X1l",
        "outputId": "554d34dd-05f7-4e5b-9e36-26cb6bd69aa7",
        "collapsed": true
      },
      "execution_count": null,
      "outputs": [
        {
          "output_type": "execute_result",
          "data": {
            "text/plain": [
              "tensor([0.0000, 0.0100, 0.0200, 0.0300, 0.0400, 0.0500, 0.0600, 0.0700, 0.0800,\n",
              "        0.0900, 0.1000, 0.1100, 0.1200, 0.1300, 0.1400, 0.1500, 0.1600, 0.1700,\n",
              "        0.1800, 0.1900, 0.2000, 0.2100, 0.2200, 0.2300, 0.2400, 0.2500, 0.2600,\n",
              "        0.2700, 0.2800, 0.2900, 0.3000, 0.3100, 0.3200, 0.3300, 0.3400, 0.3500,\n",
              "        0.3600, 0.3700, 0.3800, 0.3900, 0.4000, 0.4100, 0.4200, 0.4300, 0.4400,\n",
              "        0.4500, 0.4600, 0.4700, 0.4800, 0.4900, 0.5000, 0.5100, 0.5200, 0.5300,\n",
              "        0.5400, 0.5500, 0.5600, 0.5700, 0.5800, 0.5900, 0.6000, 0.6100, 0.6200,\n",
              "        0.6300, 0.6400, 0.6500, 0.6600, 0.6700, 0.6800, 0.6900, 0.7000, 0.7100,\n",
              "        0.7200, 0.7300, 0.7400, 0.7500, 0.7600, 0.7700, 0.7800, 0.7900, 0.8000,\n",
              "        0.8100, 0.8200, 0.8300, 0.8400, 0.8500, 0.8600, 0.8700, 0.8800, 0.8900,\n",
              "        0.9000, 0.9100, 0.9200, 0.9300, 0.9400, 0.9500, 0.9600, 0.9700, 0.9800,\n",
              "        0.9900, 1.0000, 1.0100, 1.0200, 1.0300, 1.0400, 1.0500, 1.0600, 1.0700,\n",
              "        1.0800, 1.0900, 1.1000, 1.1100, 1.1200, 1.1300, 1.1400, 1.1500, 1.1600,\n",
              "        1.1700, 1.1800, 1.1900, 1.2000, 1.2100, 1.2200, 1.2300, 1.2400, 1.2500,\n",
              "        1.2600, 1.2700, 1.2800, 1.2900, 1.3000, 1.3100, 1.3200, 1.3300, 1.3400,\n",
              "        1.3500, 1.3600, 1.3700, 1.3800, 1.3900, 1.4000, 1.4100, 1.4200, 1.4300,\n",
              "        1.4400, 1.4500, 1.4600, 1.4700, 1.4800, 1.4900, 1.5000, 1.5100, 1.5200,\n",
              "        1.5300, 1.5400, 1.5500, 1.5600, 1.5700, 1.5800, 1.5900, 1.6000, 1.6100,\n",
              "        1.6200, 1.6300, 1.6400, 1.6500, 1.6600, 1.6700, 1.6800, 1.6900, 1.7000,\n",
              "        1.7100, 1.7200, 1.7300, 1.7400, 1.7500, 1.7600, 1.7700, 1.7800, 1.7900,\n",
              "        1.8000, 1.8100, 1.8200, 1.8300, 1.8400, 1.8500, 1.8600, 1.8700, 1.8800,\n",
              "        1.8900, 1.9000, 1.9100, 1.9200, 1.9300, 1.9400, 1.9500, 1.9600, 1.9700,\n",
              "        1.9800, 1.9900, 2.0000, 2.0100, 2.0200, 2.0300, 2.0400, 2.0500, 2.0600,\n",
              "        2.0700, 2.0800, 2.0900, 2.1000, 2.1100, 2.1200, 2.1300, 2.1400, 2.1500,\n",
              "        2.1600, 2.1700, 2.1800, 2.1900, 2.2000, 2.2100, 2.2200, 2.2300, 2.2400,\n",
              "        2.2500, 2.2600, 2.2700, 2.2800, 2.2900, 2.3000, 2.3100, 2.3200, 2.3300,\n",
              "        2.3400, 2.3500, 2.3600, 2.3700, 2.3800, 2.3900, 2.4000, 2.4100, 2.4200,\n",
              "        2.4300, 2.4400, 2.4500, 2.4600, 2.4700, 2.4800, 2.4900, 2.5000, 2.5100,\n",
              "        2.5200, 2.5300, 2.5400, 2.5500, 2.5600, 2.5700, 2.5800, 2.5900, 2.6000,\n",
              "        2.6100, 2.6200, 2.6300, 2.6400, 2.6500, 2.6600, 2.6700, 2.6800, 2.6900,\n",
              "        2.7000, 2.7100, 2.7200, 2.7300, 2.7400, 2.7500, 2.7600, 2.7700, 2.7800,\n",
              "        2.7900, 2.8000, 2.8100, 2.8200, 2.8300, 2.8400, 2.8500, 2.8600, 2.8700,\n",
              "        2.8800, 2.8900, 2.9000, 2.9100, 2.9200, 2.9300, 2.9400, 2.9500, 2.9600,\n",
              "        2.9700, 2.9800, 2.9900, 3.0000, 3.0100, 3.0200, 3.0300, 3.0400, 3.0500,\n",
              "        3.0600, 3.0700, 3.0800, 3.0900, 3.1000, 3.1100, 3.1200, 3.1300, 3.1400,\n",
              "        3.1500, 3.1600, 3.1700, 3.1800, 3.1900, 3.2000, 3.2100, 3.2200, 3.2300,\n",
              "        3.2400, 3.2500, 3.2600, 3.2700, 3.2800, 3.2900, 3.3000, 3.3100, 3.3200,\n",
              "        3.3300, 3.3400, 3.3500, 3.3600, 3.3700, 3.3800, 3.3900, 3.4000, 3.4100,\n",
              "        3.4200, 3.4300, 3.4400, 3.4500, 3.4600, 3.4700, 3.4800, 3.4900, 3.5000,\n",
              "        3.5100, 3.5200, 3.5300, 3.5400, 3.5500, 3.5600, 3.5700, 3.5800, 3.5900,\n",
              "        3.6000, 3.6100, 3.6200, 3.6300, 3.6400, 3.6500, 3.6600, 3.6700, 3.6800,\n",
              "        3.6900, 3.7000, 3.7100, 3.7200, 3.7300, 3.7400, 3.7500, 3.7600, 3.7700,\n",
              "        3.7800, 3.7900, 3.8000, 3.8100, 3.8200, 3.8300, 3.8400, 3.8500, 3.8600,\n",
              "        3.8700, 3.8800, 3.8900, 3.9000, 3.9100, 3.9200, 3.9300, 3.9400, 3.9500,\n",
              "        3.9600, 3.9700, 3.9800, 3.9900, 4.0000, 4.0100, 4.0200, 4.0300, 4.0400,\n",
              "        4.0500, 4.0600, 4.0700, 4.0800, 4.0900, 4.1000, 4.1100, 4.1200, 4.1300,\n",
              "        4.1400, 4.1500, 4.1600, 4.1700, 4.1800, 4.1900, 4.2000, 4.2100, 4.2200,\n",
              "        4.2300, 4.2400, 4.2500, 4.2600, 4.2700, 4.2800, 4.2900, 4.3000, 4.3100,\n",
              "        4.3200, 4.3300, 4.3400, 4.3500, 4.3600, 4.3700, 4.3800, 4.3900, 4.4000,\n",
              "        4.4100, 4.4200, 4.4300, 4.4400, 4.4500, 4.4600, 4.4700, 4.4800, 4.4900,\n",
              "        4.5000, 4.5100, 4.5200, 4.5300, 4.5400, 4.5500, 4.5600, 4.5700, 4.5800,\n",
              "        4.5900, 4.6000, 4.6100, 4.6200, 4.6300, 4.6400, 4.6500, 4.6600, 4.6700,\n",
              "        4.6800, 4.6900, 4.7000, 4.7100, 4.7200, 4.7300, 4.7400, 4.7500, 4.7600,\n",
              "        4.7700, 4.7800, 4.7900, 4.8000, 4.8100, 4.8200, 4.8300, 4.8400, 4.8500,\n",
              "        4.8600, 4.8700, 4.8800, 4.8900, 4.9000, 4.9100, 4.9200, 4.9300, 4.9400,\n",
              "        4.9500, 4.9600, 4.9700, 4.9800, 4.9900, 5.0000, 5.0100, 5.0200, 5.0300,\n",
              "        5.0400, 5.0500, 5.0600, 5.0700, 5.0800, 5.0900, 5.1000, 5.1100, 5.1200,\n",
              "        5.1300, 5.1400, 5.1500, 5.1600, 5.1700, 5.1800, 5.1900, 5.2000, 5.2100,\n",
              "        5.2200, 5.2300, 5.2400, 5.2500, 5.2600, 5.2700, 5.2800, 5.2900, 5.3000,\n",
              "        5.3100, 5.3200, 5.3300, 5.3400, 5.3500, 5.3600, 5.3700, 5.3800, 5.3900,\n",
              "        5.4000, 5.4100, 5.4200, 5.4300, 5.4400, 5.4500, 5.4600, 5.4700, 5.4800,\n",
              "        5.4900, 5.5000, 5.5100, 5.5200, 5.5300, 5.5400, 5.5500, 5.5600, 5.5700,\n",
              "        5.5800, 5.5900, 5.6000, 5.6100, 5.6200, 5.6300, 5.6400, 5.6500, 5.6600,\n",
              "        5.6700, 5.6800, 5.6900, 5.7000, 5.7100, 5.7200, 5.7300, 5.7400, 5.7500,\n",
              "        5.7600, 5.7700, 5.7800, 5.7900, 5.8000, 5.8100, 5.8200, 5.8300, 5.8400,\n",
              "        5.8500, 5.8600, 5.8700, 5.8800, 5.8900, 5.9000, 5.9100, 5.9200, 5.9300,\n",
              "        5.9400, 5.9500, 5.9600, 5.9700, 5.9800, 5.9900, 6.0000, 6.0100, 6.0200,\n",
              "        6.0300, 6.0400, 6.0500, 6.0600, 6.0700, 6.0800, 6.0900, 6.1000, 6.1100,\n",
              "        6.1200, 6.1300, 6.1400, 6.1500, 6.1600, 6.1700, 6.1800, 6.1900, 6.2000,\n",
              "        6.2100, 6.2200, 6.2300, 6.2400, 6.2500, 6.2600, 6.2700, 6.2800, 6.2900,\n",
              "        6.3000, 6.3100, 6.3200, 6.3300, 6.3400, 6.3500, 6.3600, 6.3700, 6.3800,\n",
              "        6.3900, 6.4000, 6.4100, 6.4200, 6.4300, 6.4400, 6.4500, 6.4600, 6.4700,\n",
              "        6.4800, 6.4900, 6.5000, 6.5100, 6.5200, 6.5300, 6.5400, 6.5500, 6.5600,\n",
              "        6.5700, 6.5800, 6.5900, 6.6000, 6.6100, 6.6200, 6.6300, 6.6400, 6.6500,\n",
              "        6.6600, 6.6700, 6.6800, 6.6900, 6.7000, 6.7100, 6.7200, 6.7300, 6.7400,\n",
              "        6.7500, 6.7600, 6.7700, 6.7800, 6.7900, 6.8000, 6.8100, 6.8200, 6.8300,\n",
              "        6.8400, 6.8500, 6.8600, 6.8700, 6.8800, 6.8900, 6.9000, 6.9100, 6.9200,\n",
              "        6.9300, 6.9400, 6.9500, 6.9600, 6.9700, 6.9800, 6.9900, 7.0000, 7.0100,\n",
              "        7.0200, 7.0300, 7.0400, 7.0500, 7.0600, 7.0700, 7.0800, 7.0900, 7.1000,\n",
              "        7.1100, 7.1200, 7.1300, 7.1400, 7.1500, 7.1600, 7.1700, 7.1800, 7.1900,\n",
              "        7.2000, 7.2100, 7.2200, 7.2300, 7.2400, 7.2500, 7.2600, 7.2700, 7.2800,\n",
              "        7.2900, 7.3000, 7.3100, 7.3200, 7.3300, 7.3400, 7.3500, 7.3600, 7.3700,\n",
              "        7.3800, 7.3900, 7.4000, 7.4100, 7.4200, 7.4300, 7.4400, 7.4500, 7.4600,\n",
              "        7.4700, 7.4800, 7.4900, 7.5000, 7.5100, 7.5200, 7.5300, 7.5400, 7.5500,\n",
              "        7.5600, 7.5700, 7.5800, 7.5900, 7.6000, 7.6100, 7.6200, 7.6300, 7.6400,\n",
              "        7.6500, 7.6600, 7.6700, 7.6800, 7.6900, 7.7000, 7.7100, 7.7200, 7.7300,\n",
              "        7.7400, 7.7500, 7.7600, 7.7700, 7.7800, 7.7900, 7.8000, 7.8100, 7.8200,\n",
              "        7.8300, 7.8400, 7.8500, 7.8600, 7.8700, 7.8800, 7.8900, 7.9000, 7.9100,\n",
              "        7.9200, 7.9300, 7.9400, 7.9500, 7.9600, 7.9700, 7.9800, 7.9900, 8.0000,\n",
              "        8.0100, 8.0200, 8.0300, 8.0400, 8.0500, 8.0600, 8.0700, 8.0800, 8.0900,\n",
              "        8.1000, 8.1100, 8.1200, 8.1300, 8.1400, 8.1500, 8.1600, 8.1700, 8.1800,\n",
              "        8.1900, 8.2000, 8.2100, 8.2200, 8.2300, 8.2400, 8.2500, 8.2600, 8.2700,\n",
              "        8.2800, 8.2900, 8.3000, 8.3100, 8.3200, 8.3300, 8.3400, 8.3500, 8.3600,\n",
              "        8.3700, 8.3800, 8.3900, 8.4000, 8.4100, 8.4200, 8.4300, 8.4400, 8.4500,\n",
              "        8.4600, 8.4700, 8.4800, 8.4900, 8.5000, 8.5100, 8.5200, 8.5300, 8.5400,\n",
              "        8.5500, 8.5600, 8.5700, 8.5800, 8.5900, 8.6000, 8.6100, 8.6200, 8.6300,\n",
              "        8.6400, 8.6500, 8.6600, 8.6700, 8.6800, 8.6900, 8.7000, 8.7100, 8.7200,\n",
              "        8.7300, 8.7400, 8.7500, 8.7600, 8.7700, 8.7800, 8.7900, 8.8000, 8.8100,\n",
              "        8.8200, 8.8300, 8.8400, 8.8500, 8.8600, 8.8700, 8.8800, 8.8900, 8.9000,\n",
              "        8.9100, 8.9200, 8.9300, 8.9400, 8.9500, 8.9600, 8.9700, 8.9800, 8.9900,\n",
              "        9.0000, 9.0100, 9.0200, 9.0300, 9.0400, 9.0500, 9.0600, 9.0700, 9.0800,\n",
              "        9.0900, 9.1000, 9.1100, 9.1200, 9.1300, 9.1400, 9.1500, 9.1600, 9.1700,\n",
              "        9.1800, 9.1900, 9.2000, 9.2100, 9.2200, 9.2300, 9.2400, 9.2500, 9.2600,\n",
              "        9.2700, 9.2800, 9.2900, 9.3000, 9.3100, 9.3200, 9.3300, 9.3400, 9.3500,\n",
              "        9.3600, 9.3700, 9.3800, 9.3900, 9.4000, 9.4100, 9.4200, 9.4300, 9.4400,\n",
              "        9.4500, 9.4600, 9.4700, 9.4800, 9.4900, 9.5000, 9.5100, 9.5200, 9.5300,\n",
              "        9.5400, 9.5500, 9.5600, 9.5700, 9.5800, 9.5900, 9.6000, 9.6100, 9.6200,\n",
              "        9.6300, 9.6400, 9.6500, 9.6600, 9.6700, 9.6800, 9.6900, 9.7000, 9.7100,\n",
              "        9.7200, 9.7300, 9.7400, 9.7500, 9.7600, 9.7700, 9.7800, 9.7900, 9.8000,\n",
              "        9.8100, 9.8200, 9.8300, 9.8400, 9.8500, 9.8600, 9.8700, 9.8800, 9.8900,\n",
              "        9.9000, 9.9100, 9.9200, 9.9300, 9.9400, 9.9500, 9.9600, 9.9700, 9.9800,\n",
              "        9.9900])"
            ]
          },
          "metadata": {},
          "execution_count": 20
        }
      ]
    },
    {
      "cell_type": "code",
      "source": [
        "torch.cuda.is_available()"
      ],
      "metadata": {
        "colab": {
          "base_uri": "https://localhost:8080/"
        },
        "id": "C3-ge0Mo_f2H",
        "outputId": "d01ce68e-5ec0-45ee-f0f5-9d18831ad5bf"
      },
      "execution_count": null,
      "outputs": [
        {
          "output_type": "execute_result",
          "data": {
            "text/plain": [
              "False"
            ]
          },
          "metadata": {},
          "execution_count": 25
        }
      ]
    },
    {
      "cell_type": "code",
      "source": [
        "torch.linspace(1,10,5)"
      ],
      "metadata": {
        "colab": {
          "base_uri": "https://localhost:8080/"
        },
        "id": "k9mdrhk7_pdS",
        "outputId": "4462f8c2-1c58-493e-e2bd-5bdfeba2979c"
      },
      "execution_count": null,
      "outputs": [
        {
          "output_type": "execute_result",
          "data": {
            "text/plain": [
              "tensor([ 1.0000,  3.2500,  5.5000,  7.7500, 10.0000])"
            ]
          },
          "metadata": {},
          "execution_count": 29
        }
      ]
    },
    {
      "cell_type": "code",
      "source": [
        "a =torch.arange(6).reshape(3,2)"
      ],
      "metadata": {
        "id": "Ot4ZJxWZ_4tq"
      },
      "execution_count": null,
      "outputs": []
    },
    {
      "cell_type": "code",
      "source": [
        "a.view(2,3)"
      ],
      "metadata": {
        "colab": {
          "base_uri": "https://localhost:8080/"
        },
        "id": "RVU-sy1LAN8V",
        "outputId": "65c046da-136d-4d10-b316-66d9e3b06c48"
      },
      "execution_count": null,
      "outputs": [
        {
          "output_type": "execute_result",
          "data": {
            "text/plain": [
              "tensor([[0, 1, 2],\n",
              "        [3, 4, 5]])"
            ]
          },
          "metadata": {},
          "execution_count": 34
        }
      ]
    },
    {
      "cell_type": "code",
      "source": [
        "x = torch.tensor(2.0, requires_grad=True)   # for gradiant traking\n",
        "y = x ** 3 + 2 * x\n",
        "\n",
        "print(y.backward())   # remember backprop(backwards fn) only works with scalar values\n",
        "print(x.grad)\n",
        "\n",
        "x.detach()  # to stop tracking gradients"
      ],
      "metadata": {
        "colab": {
          "base_uri": "https://localhost:8080/"
        },
        "id": "oQ1-Xqp6AVuS",
        "outputId": "24987e4c-2a99-4a45-e9de-5a64aa127313"
      },
      "execution_count": null,
      "outputs": [
        {
          "output_type": "stream",
          "name": "stdout",
          "text": [
            "None\n",
            "tensor(14.)\n"
          ]
        }
      ]
    },
    {
      "cell_type": "code",
      "source": [
        "x = torch.tensor([1,2,3,4] , requires_grad = True , dtype = torch.float32)\n",
        "print(x.requires_grad)"
      ],
      "metadata": {
        "colab": {
          "base_uri": "https://localhost:8080/"
        },
        "id": "p2PngdsBAmT2",
        "outputId": "1ae45fba-0081-4dd7-a608-038cc3253077"
      },
      "execution_count": null,
      "outputs": [
        {
          "output_type": "stream",
          "name": "stdout",
          "text": [
            "True\n"
          ]
        }
      ]
    },
    {
      "cell_type": "code",
      "source": [
        "x = torch.tensor(2.0, requires_grad=True)\n",
        "\n",
        "with torch.no_grad():\n",
        "  y = x ** 3 + 2 * x\n",
        "\n",
        "print(y.requires_grad)"
      ],
      "metadata": {
        "colab": {
          "base_uri": "https://localhost:8080/"
        },
        "id": "NVgKWXIywW3J",
        "outputId": "30c06c73-a7f4-4971-8b4d-60e6fbe60e9d"
      },
      "execution_count": null,
      "outputs": [
        {
          "output_type": "stream",
          "name": "stdout",
          "text": [
            "False\n"
          ]
        }
      ]
    },
    {
      "cell_type": "code",
      "source": [
        "torch.rand(3)   # uniform distribution"
      ],
      "metadata": {
        "id": "ayjMkS3-YVoc",
        "colab": {
          "base_uri": "https://localhost:8080/"
        },
        "outputId": "e4e5bd0c-38b4-4920-ae83-cae99ccaaf5e"
      },
      "execution_count": null,
      "outputs": [
        {
          "output_type": "execute_result",
          "data": {
            "text/plain": [
              "tensor([0.2566, 0.7936, 0.9408])"
            ]
          },
          "metadata": {},
          "execution_count": 40
        }
      ]
    },
    {
      "cell_type": "code",
      "source": [
        "torch.manual_seed(42)\n",
        "torch.rand(3)"
      ],
      "metadata": {
        "colab": {
          "base_uri": "https://localhost:8080/"
        },
        "id": "eqcRgWw1qqKY",
        "outputId": "635c20b9-29e1-4aca-94e0-203941a7ccff"
      },
      "execution_count": null,
      "outputs": [
        {
          "output_type": "execute_result",
          "data": {
            "text/plain": [
              "tensor([0.8823, 0.9150, 0.3829])"
            ]
          },
          "metadata": {},
          "execution_count": 43
        }
      ]
    },
    {
      "cell_type": "code",
      "source": [
        "torch.manual_seed(42)  # seed use for reproduce same random numbers\n",
        "torch.rand(3)"
      ],
      "metadata": {
        "colab": {
          "base_uri": "https://localhost:8080/"
        },
        "id": "d1zXseSNq273",
        "outputId": "a19f809e-2251-470c-9ce6-e821a0a69728"
      },
      "execution_count": null,
      "outputs": [
        {
          "output_type": "execute_result",
          "data": {
            "text/plain": [
              "tensor([0.8823, 0.9150, 0.3829])"
            ]
          },
          "metadata": {},
          "execution_count": 44
        }
      ]
    },
    {
      "cell_type": "code",
      "source": [
        "torch.randn(3)   # Gussian Distribution"
      ],
      "metadata": {
        "colab": {
          "base_uri": "https://localhost:8080/"
        },
        "id": "y0iKAVx4eVQc",
        "outputId": "841d184b-ec23-4f0e-de84-289d3e227c30"
      },
      "execution_count": null,
      "outputs": [
        {
          "output_type": "execute_result",
          "data": {
            "text/plain": [
              "tensor([ 0.3623, -0.1671, -0.1079])"
            ]
          },
          "metadata": {},
          "execution_count": 35
        }
      ]
    },
    {
      "cell_type": "code",
      "source": [
        "torch.empty(2,3)"
      ],
      "metadata": {
        "colab": {
          "base_uri": "https://localhost:8080/"
        },
        "id": "8XDdcfUPerIc",
        "outputId": "28f081b1-275d-41df-f194-acefb0c8a2de"
      },
      "execution_count": null,
      "outputs": [
        {
          "output_type": "execute_result",
          "data": {
            "text/plain": [
              "tensor([[7.1450e+31, 6.1970e-04, 2.8909e+26],\n",
              "        [1.3672e-40, 9.1837e-41, 4.1478e-43]])"
            ]
          },
          "metadata": {},
          "execution_count": 36
        }
      ]
    },
    {
      "cell_type": "code",
      "source": [
        "x = torch.linspace(0, 1, 5)\n",
        "print(x)"
      ],
      "metadata": {
        "colab": {
          "base_uri": "https://localhost:8080/"
        },
        "id": "pf7kle2ofdxG",
        "outputId": "1cef0e5f-3c04-4b0f-df7d-56c6bfbc4a58"
      },
      "execution_count": null,
      "outputs": [
        {
          "output_type": "stream",
          "name": "stdout",
          "text": [
            "tensor([0.0000, 0.2500, 0.5000, 0.7500, 1.0000])\n"
          ]
        }
      ]
    },
    {
      "cell_type": "code",
      "source": [
        "torch.eye(3)   # identity matrix"
      ],
      "metadata": {
        "colab": {
          "base_uri": "https://localhost:8080/"
        },
        "id": "KH3GqQCPgD6N",
        "outputId": "8471da33-81c1-4939-d2f2-1c80a685faa6"
      },
      "execution_count": null,
      "outputs": [
        {
          "output_type": "execute_result",
          "data": {
            "text/plain": [
              "tensor([[1., 0., 0.],\n",
              "        [0., 1., 0.],\n",
              "        [0., 0., 1.]])"
            ]
          },
          "metadata": {},
          "execution_count": 7
        }
      ]
    },
    {
      "cell_type": "code",
      "source": [
        "print(\"using full ->\", torch.full((3, 3), 5))"
      ],
      "metadata": {
        "colab": {
          "base_uri": "https://localhost:8080/"
        },
        "id": "v4xad_F5rins",
        "outputId": "3ccf1bf3-a3b8-4f64-dd9e-4d5f3eb60b9c"
      },
      "execution_count": null,
      "outputs": [
        {
          "output_type": "stream",
          "name": "stdout",
          "text": [
            "using full -> tensor([[5, 5, 5],\n",
            "        [5, 5, 5],\n",
            "        [5, 5, 5]])\n"
          ]
        }
      ]
    },
    {
      "cell_type": "code",
      "source": [
        "a = torch.tensor([1,2,3,4,5,6])   # reshaping tensor  without coping\n",
        "a.view(3,2)"
      ],
      "metadata": {
        "colab": {
          "base_uri": "https://localhost:8080/"
        },
        "id": "HPe-F0EugNZq",
        "outputId": "ecff7e54-cdfe-4917-b8d9-c927d0ea3a3a"
      },
      "execution_count": null,
      "outputs": [
        {
          "output_type": "execute_result",
          "data": {
            "text/plain": [
              "tensor([[1, 2],\n",
              "        [3, 4],\n",
              "        [5, 6]])"
            ]
          },
          "metadata": {},
          "execution_count": 13
        }
      ]
    },
    {
      "cell_type": "code",
      "source": [
        "x = torch.tensor([[1, 2], [3, 4]])\n",
        "y = torch.tensor([[5, 6], [7, 8]])\n",
        "z = torch.cat((x, y), dim=1)\n",
        "print(z)"
      ],
      "metadata": {
        "colab": {
          "base_uri": "https://localhost:8080/"
        },
        "id": "z5YvkMIBglUl",
        "outputId": "46b36463-fcb0-4103-a36e-2f95b1f17f65"
      },
      "execution_count": null,
      "outputs": [
        {
          "output_type": "stream",
          "name": "stdout",
          "text": [
            "tensor([[1, 2, 5, 6],\n",
            "        [3, 4, 7, 8]])\n"
          ]
        }
      ]
    },
    {
      "cell_type": "code",
      "source": [
        "x = torch.tensor([1, 2])\n",
        "y = torch.tensor([3, 4])\n",
        "z = torch.stack((x, y), dim=0)\n",
        "print(z)"
      ],
      "metadata": {
        "colab": {
          "base_uri": "https://localhost:8080/"
        },
        "id": "ZFHGxCkAg-7c",
        "outputId": "d07f5567-ba66-4303-f0d4-eaa2a9ec35f8"
      },
      "execution_count": null,
      "outputs": [
        {
          "output_type": "stream",
          "name": "stdout",
          "text": [
            "tensor([[1, 2],\n",
            "        [3, 4]])\n"
          ]
        }
      ]
    },
    {
      "cell_type": "code",
      "source": [
        "a = torch.tensor([[1, 2, 3], [4, 5, 6]])\n",
        "b = a\n",
        "print(id(a))\n",
        "print(id(b))\n"
      ],
      "metadata": {
        "colab": {
          "base_uri": "https://localhost:8080/"
        },
        "id": "A2SLh_f7p3gb",
        "outputId": "f4536524-0457-4937-96df-b8af43c2aa6b"
      },
      "execution_count": null,
      "outputs": [
        {
          "output_type": "stream",
          "name": "stdout",
          "text": [
            "134855373323424\n",
            "134855373323424\n"
          ]
        }
      ]
    },
    {
      "cell_type": "code",
      "source": [
        "a = torch.tensor([[1, 2, 3000], [4, 5, 699999999]])     #  prevent value from going to high and to low\n",
        "torch.clamp(a , min = 3 , max = 6)\n"
      ],
      "metadata": {
        "colab": {
          "base_uri": "https://localhost:8080/"
        },
        "id": "lVb0WAMs1JXh",
        "outputId": "2495bc86-fbc5-406f-c1da-207ea0042868"
      },
      "execution_count": null,
      "outputs": [
        {
          "output_type": "execute_result",
          "data": {
            "text/plain": [
              "tensor([[3, 3, 6],\n",
              "        [4, 5, 6]])"
            ]
          },
          "metadata": {},
          "execution_count": 58
        }
      ]
    },
    {
      "cell_type": "code",
      "source": [
        "a[0][0] = 10\n",
        "print(a)\n",
        "print(b)"
      ],
      "metadata": {
        "colab": {
          "base_uri": "https://localhost:8080/"
        },
        "id": "3lKEAuEisLwV",
        "outputId": "10408b70-3ff5-4b8d-8d5b-e87633dbdc17"
      },
      "execution_count": null,
      "outputs": [
        {
          "output_type": "stream",
          "name": "stdout",
          "text": [
            "tensor([[10,  2,  3],\n",
            "        [ 4,  5,  6]])\n",
            "tensor([[10,  2,  3],\n",
            "        [ 4,  5,  6]])\n"
          ]
        }
      ]
    },
    {
      "cell_type": "code",
      "source": [
        "b = a.clone()   # different location\n",
        "print(id(a))\n",
        "print(id(b))"
      ],
      "metadata": {
        "colab": {
          "base_uri": "https://localhost:8080/"
        },
        "id": "9HE8wykbsRS4",
        "outputId": "9d86296a-a340-4f4f-b00e-a94a5231ecde"
      },
      "execution_count": null,
      "outputs": [
        {
          "output_type": "stream",
          "name": "stdout",
          "text": [
            "134855373323424\n",
            "134855060627904\n"
          ]
        }
      ]
    },
    {
      "cell_type": "code",
      "source": [
        "x = torch.device('cude' if torch.cuda.is_available() else 'cpu')\n",
        "a = torch.tensor([1,2,3,4,5,6] , device=x )\n",
        "print(a.device)"
      ],
      "metadata": {
        "colab": {
          "base_uri": "https://localhost:8080/"
        },
        "id": "SUgaheYRsXmj",
        "outputId": "2c3620de-e1d1-4133-a5f5-05aff933256b"
      },
      "execution_count": null,
      "outputs": [
        {
          "output_type": "stream",
          "name": "stdout",
          "text": [
            "cpu\n"
          ]
        }
      ]
    },
    {
      "cell_type": "markdown",
      "source": [
        "**nn.Module**"
      ],
      "metadata": {
        "id": "H_l1HT_H2wbQ"
      }
    },
    {
      "cell_type": "code",
      "source": [
        "# nn.linear\n",
        "\n",
        "import torch.nn as nn\n",
        "\n",
        "layer = nn.Linear(in_features=10, out_features=5 , bias = True)\n",
        "layer"
      ],
      "metadata": {
        "colab": {
          "base_uri": "https://localhost:8080/"
        },
        "id": "J0LXg9TCsztZ",
        "outputId": "02e256ec-aedd-4b79-b0e8-d18672a0d363"
      },
      "execution_count": null,
      "outputs": [
        {
          "output_type": "execute_result",
          "data": {
            "text/plain": [
              "Linear(in_features=10, out_features=5, bias=True)"
            ]
          },
          "metadata": {},
          "execution_count": 61
        }
      ]
    },
    {
      "cell_type": "code",
      "source": [
        "layer.weight.shape"
      ],
      "metadata": {
        "colab": {
          "base_uri": "https://localhost:8080/"
        },
        "id": "enZmIKa33D5n",
        "outputId": "ee699b42-f1e5-4fea-8829-2649fdd07c9c"
      },
      "execution_count": null,
      "outputs": [
        {
          "output_type": "execute_result",
          "data": {
            "text/plain": [
              "torch.Size([5, 10])"
            ]
          },
          "metadata": {},
          "execution_count": 62
        }
      ]
    },
    {
      "cell_type": "code",
      "source": [
        "layer.weight"
      ],
      "metadata": {
        "colab": {
          "base_uri": "https://localhost:8080/"
        },
        "id": "l5FIPglG3NeI",
        "outputId": "fee22d2d-6c9a-4a47-c2ee-54317f36c86c"
      },
      "execution_count": null,
      "outputs": [
        {
          "output_type": "execute_result",
          "data": {
            "text/plain": [
              "Parameter containing:\n",
              "tensor([[ 0.2905, -0.0693,  0.0638, -0.1540,  0.1857,  0.2788, -0.2320,  0.2749,\n",
              "          0.0592,  0.2336],\n",
              "        [ 0.0428,  0.1525, -0.0446,  0.2438,  0.0467, -0.1476,  0.0806, -0.1457,\n",
              "         -0.0371, -0.1284],\n",
              "        [ 0.2098, -0.2496, -0.1458, -0.0893, -0.1901,  0.0298, -0.3123,  0.2856,\n",
              "         -0.2686,  0.2441],\n",
              "        [ 0.0526, -0.1027,  0.1954,  0.0493,  0.2555,  0.0346, -0.0997,  0.0850,\n",
              "         -0.0858,  0.1331],\n",
              "        [ 0.2823,  0.1828, -0.1382,  0.1825,  0.0566,  0.1606, -0.1927, -0.3130,\n",
              "         -0.1222, -0.2426]], requires_grad=True)"
            ]
          },
          "metadata": {},
          "execution_count": 63
        }
      ]
    },
    {
      "cell_type": "code",
      "source": [
        "layer.bias"
      ],
      "metadata": {
        "colab": {
          "base_uri": "https://localhost:8080/"
        },
        "id": "ghabvEFp3PoO",
        "outputId": "bf5be0a8-b09a-4bf5-90bd-560c653699c6"
      },
      "execution_count": null,
      "outputs": [
        {
          "output_type": "execute_result",
          "data": {
            "text/plain": [
              "Parameter containing:\n",
              "tensor([ 0.2595,  0.0911,  0.1310,  0.1000, -0.0055], requires_grad=True)"
            ]
          },
          "metadata": {},
          "execution_count": 64
        }
      ]
    },
    {
      "cell_type": "code",
      "source": [
        "x = nn.LazyLinear(out_features=6)  # LazyLinear doesn't require any in-features\n"
      ],
      "metadata": {
        "id": "kL4TqLM-3UBb"
      },
      "execution_count": null,
      "outputs": []
    },
    {
      "cell_type": "code",
      "source": [
        "a = torch.rand(3,10)\n",
        "y = x(a)\n",
        "y"
      ],
      "metadata": {
        "colab": {
          "base_uri": "https://localhost:8080/"
        },
        "id": "YAoWOLq0391f",
        "outputId": "72af09b5-22f7-4648-af04-4dd8238ff023"
      },
      "execution_count": null,
      "outputs": [
        {
          "output_type": "execute_result",
          "data": {
            "text/plain": [
              "tensor([[ 0.1547, -0.8509, -0.1830, -0.8295,  0.0347, -0.0427],\n",
              "        [ 0.3711, -0.8877, -0.2340, -0.8023, -0.2234, -0.0778],\n",
              "        [ 0.2801, -0.7622, -0.1559, -0.7509, -0.5300, -0.0039]],\n",
              "       grad_fn=<AddmmBackward0>)"
            ]
          },
          "metadata": {},
          "execution_count": 68
        }
      ]
    },
    {
      "cell_type": "code",
      "source": [
        "nn.Bilinear(in1_features=3, in2_features=4, out_features=5).weight  # bilinear can  take multiple inputs features"
      ],
      "metadata": {
        "colab": {
          "base_uri": "https://localhost:8080/"
        },
        "id": "r0vQt3wl4AJ0",
        "outputId": "b52b22be-f752-4a40-b5a2-5a479afd8091"
      },
      "execution_count": null,
      "outputs": [
        {
          "output_type": "execute_result",
          "data": {
            "text/plain": [
              "Parameter containing:\n",
              "tensor([[[ 0.5480,  0.1519,  0.3871,  0.5692],\n",
              "         [-0.0885,  0.1198, -0.4013, -0.1190],\n",
              "         [ 0.4276,  0.2960, -0.3653, -0.4630]],\n",
              "\n",
              "        [[-0.3945, -0.5698, -0.4455, -0.1428],\n",
              "         [ 0.3896,  0.0966, -0.4391, -0.4632],\n",
              "         [ 0.2872, -0.4295, -0.0711,  0.2770]],\n",
              "\n",
              "        [[-0.2672, -0.0630, -0.0503, -0.1366],\n",
              "         [-0.2927, -0.5147, -0.4667, -0.3091],\n",
              "         [ 0.5576, -0.2789, -0.3877,  0.1399]],\n",
              "\n",
              "        [[ 0.1591,  0.3163,  0.4389,  0.3215],\n",
              "         [-0.5724,  0.0512,  0.3497, -0.0534],\n",
              "         [-0.3402,  0.5504, -0.2159, -0.3287]],\n",
              "\n",
              "        [[-0.5205,  0.0258,  0.2558,  0.1278],\n",
              "         [ 0.1142, -0.4379, -0.5392,  0.0102],\n",
              "         [ 0.5264,  0.3331, -0.3362, -0.0749]]], requires_grad=True)"
            ]
          },
          "metadata": {},
          "execution_count": 71
        }
      ]
    },
    {
      "cell_type": "markdown",
      "source": [
        "# **ANN in pytorch**"
      ],
      "metadata": {
        "id": "ZJe4o_KT44Oh"
      }
    },
    {
      "cell_type": "code",
      "source": [
        "class ANNmodel(nn.Module):\n",
        "  def __init__(self, inputs):\n",
        "    super().__init__()\n",
        "    self.network = nn.Sequential(\n",
        "        nn.Linear(inputs , 8),\n",
        "        nn.ReLU(),\n",
        "        nn.Linear(8,1),\n",
        "        nn.Sigmoid()\n",
        "    )\n",
        "\n",
        "  def forward(self , inputs):\n",
        "    result = self.network(inputs)\n",
        "    return result"
      ],
      "metadata": {
        "id": "7aMJO6P84fWz"
      },
      "execution_count": 28,
      "outputs": []
    },
    {
      "cell_type": "code",
      "source": [
        "import torch.optim as optim\n",
        "\n",
        "model = ANNmodel(inputs=5)\n",
        "criterion = nn.BCELoss()\n",
        "optimizer = optim.SGD(model.parameters(), lr=0.01)\n",
        "\n",
        "\n",
        "features = torch.rand(10, 5)\n",
        "targets = torch.randint(0, 2, (10, 1), dtype=torch.float32)\n",
        "\n",
        "\n",
        "model.train()\n",
        "for epoch in range(20):\n",
        "    optimizer.zero_grad()\n",
        "    outputs = model(features)\n",
        "    loss = criterion(outputs, targets)\n",
        "    loss.backward()  # Compute gradients\n",
        "    optimizer.step()  # Update weights\n",
        "    print(f\"Epoch {epoch+1}, Loss: {loss.item()}\")"
      ],
      "metadata": {
        "colab": {
          "base_uri": "https://localhost:8080/"
        },
        "id": "xY7EdoLgv732",
        "outputId": "c2225431-a984-4110-bfeb-66443e96bd0a"
      },
      "execution_count": 31,
      "outputs": [
        {
          "output_type": "stream",
          "name": "stdout",
          "text": [
            "Epoch 1, Loss: 0.6986993551254272\n",
            "Epoch 2, Loss: 0.6986433267593384\n",
            "Epoch 3, Loss: 0.6985875368118286\n",
            "Epoch 4, Loss: 0.6985318064689636\n",
            "Epoch 5, Loss: 0.6984761953353882\n",
            "Epoch 6, Loss: 0.6984208822250366\n",
            "Epoch 7, Loss: 0.6983655691146851\n",
            "Epoch 8, Loss: 0.6983104944229126\n",
            "Epoch 9, Loss: 0.6982554793357849\n",
            "Epoch 10, Loss: 0.6982006430625916\n",
            "Epoch 11, Loss: 0.6981459259986877\n",
            "Epoch 12, Loss: 0.6980913877487183\n",
            "Epoch 13, Loss: 0.6980369687080383\n",
            "Epoch 14, Loss: 0.6979825496673584\n",
            "Epoch 15, Loss: 0.6979284882545471\n",
            "Epoch 16, Loss: 0.6978744268417358\n",
            "Epoch 17, Loss: 0.6978204250335693\n",
            "Epoch 18, Loss: 0.6977739334106445\n",
            "Epoch 19, Loss: 0.6977487802505493\n",
            "Epoch 20, Loss: 0.6977237462997437\n"
          ]
        }
      ]
    },
    {
      "cell_type": "markdown",
      "source": [
        "Dataset and Dataloader"
      ],
      "metadata": {
        "id": "KG9VxqG1cgW1"
      }
    },
    {
      "cell_type": "code",
      "source": [
        "from torch.utils.data import Dataset, DataLoader"
      ],
      "metadata": {
        "id": "o-tePsHv7pFA"
      },
      "execution_count": null,
      "outputs": []
    },
    {
      "cell_type": "code",
      "source": [
        "class CustomDataset(Dataset):\n",
        "  def __init__(self, data, targets):\n",
        "    self.data = data\n",
        "    self.targets = targets\n",
        "\n",
        "  def __len__(self):\n",
        "    return len(self.data)\n",
        "\n",
        "  def __getitem__(self, index):\n",
        "    sample = self.data[index]\n",
        "    target = self.targets[index]\n",
        "    return sample, target"
      ],
      "metadata": {
        "id": "GdY8arH5dUPz"
      },
      "execution_count": null,
      "outputs": []
    },
    {
      "cell_type": "code",
      "source": [
        "features =  torch.rand(10,5)\n",
        "dataset = CustomDataset(data=features, targets=torch.rand(10,1))\n",
        "loader = DataLoader(dataset, batch_size=3 , shuffle = True)\n",
        "\n",
        "for data , target in loader:\n",
        "  print(\"data: \" , data)\n",
        "  print(\"Target : \" , target)"
      ],
      "metadata": {
        "colab": {
          "base_uri": "https://localhost:8080/"
        },
        "id": "sIy54LX4czd5",
        "outputId": "56d6ea9a-96ce-45d3-9662-8027fbabaa37"
      },
      "execution_count": null,
      "outputs": [
        {
          "output_type": "stream",
          "name": "stdout",
          "text": [
            "data:  tensor([[0.5307, 0.7196, 0.3496, 0.7583, 0.7315],\n",
            "        [0.2733, 0.1318, 0.4000, 0.3789, 0.5643],\n",
            "        [0.4749, 0.4467, 0.3005, 0.9074, 0.3522]])\n",
            "Target :  tensor([[0.6801],\n",
            "        [0.1164],\n",
            "        [0.0232]])\n",
            "data:  tensor([[0.0213, 0.8367, 0.7197, 0.8095, 0.4760],\n",
            "        [0.8287, 0.7550, 0.0169, 0.8690, 0.1799],\n",
            "        [0.2499, 0.4707, 0.2336, 0.5447, 0.1643]])\n",
            "Target :  tensor([[0.0977],\n",
            "        [0.8897],\n",
            "        [0.8078]])\n",
            "data:  tensor([[0.8348, 0.4765, 0.3717, 0.7824, 0.6314],\n",
            "        [0.2720, 0.6550, 0.6079, 0.6978, 0.5279],\n",
            "        [0.4794, 0.9396, 0.4089, 0.3736, 0.5389]])\n",
            "Target :  tensor([[0.9700],\n",
            "        [0.0794],\n",
            "        [0.9364]])\n",
            "data:  tensor([[0.7081, 0.1552, 0.2460, 0.8960, 0.1653]])\n",
            "Target :  tensor([[0.8065]])\n"
          ]
        }
      ]
    },
    {
      "cell_type": "markdown",
      "source": [
        "*AUTOGRAD*"
      ],
      "metadata": {
        "id": "gHUlv6xFju-r"
      }
    },
    {
      "cell_type": "code",
      "source": [
        "a = torch.tensor(2.0, requires_grad=True)\n",
        "b = torch.tensor(3.0, requires_grad=True)\n",
        "c = a * b + b**2\n",
        "c.backward()\n",
        "print(\"dc/da:\", a.grad)\n",
        "print(\"dc/db:\", b.grad)"
      ],
      "metadata": {
        "colab": {
          "base_uri": "https://localhost:8080/"
        },
        "id": "voPs4SE1eO1a",
        "outputId": "31e389b4-b71b-47c0-8177-9fab6b953a60"
      },
      "execution_count": null,
      "outputs": [
        {
          "output_type": "stream",
          "name": "stdout",
          "text": [
            "dc/da: tensor(3.)\n",
            "dc/db: tensor(8.)\n"
          ]
        }
      ]
    },
    {
      "cell_type": "markdown",
      "source": [
        "# **CNN**"
      ],
      "metadata": {
        "id": "uY6Lje6WkGo9"
      }
    },
    {
      "cell_type": "code",
      "source": [
        "import torch\n",
        "import torch.nn as nn\n",
        "import torch.nn.functional as F\n",
        "\n",
        "model = nn.Sequential(\n",
        "    nn.Conv2d(1, 32, kernel_size=3, stride=1, padding=1),\n",
        "    nn.ReLU(),\n",
        "    nn.BatchNorm2d(32),\n",
        "    nn.MaxPool2d(2, 2),\n",
        "\n",
        "    nn.Conv2d(32, 64, kernel_size=3, stride=1, padding=1),\n",
        "    nn.ReLU(),\n",
        "    nn.BatchNorm2d(64),\n",
        "    nn.MaxPool2d(2, 2),\n",
        "\n",
        "    nn.Flatten(),\n",
        "    nn.Linear(64*7*7, 128),\n",
        "    nn.ReLU(),\n",
        "    nn.Linear(128, 10)\n",
        ")\n",
        "\n",
        "print(model)\n",
        "\n",
        "x = torch.randn(16, 1, 28, 28)\n",
        "out = model(x)\n",
        "\n",
        "print(\"Output shape:\", out.shape)  # (16, 10)"
      ],
      "metadata": {
        "colab": {
          "base_uri": "https://localhost:8080/"
        },
        "id": "8GYrQX2sjykM",
        "outputId": "8cf01fae-4fa3-49d7-b54b-d92f68cbcb94"
      },
      "execution_count": null,
      "outputs": [
        {
          "output_type": "stream",
          "name": "stdout",
          "text": [
            "Sequential(\n",
            "  (0): Conv2d(1, 32, kernel_size=(3, 3), stride=(1, 1), padding=(1, 1))\n",
            "  (1): ReLU()\n",
            "  (2): BatchNorm2d(32, eps=1e-05, momentum=0.1, affine=True, track_running_stats=True)\n",
            "  (3): MaxPool2d(kernel_size=2, stride=2, padding=0, dilation=1, ceil_mode=False)\n",
            "  (4): Conv2d(32, 64, kernel_size=(3, 3), stride=(1, 1), padding=(1, 1))\n",
            "  (5): ReLU()\n",
            "  (6): BatchNorm2d(64, eps=1e-05, momentum=0.1, affine=True, track_running_stats=True)\n",
            "  (7): MaxPool2d(kernel_size=2, stride=2, padding=0, dilation=1, ceil_mode=False)\n",
            "  (8): Flatten(start_dim=1, end_dim=-1)\n",
            "  (9): Linear(in_features=3136, out_features=128, bias=True)\n",
            "  (10): ReLU()\n",
            "  (11): Linear(in_features=128, out_features=10, bias=True)\n",
            ")\n",
            "Output shape: torch.Size([16, 10])\n"
          ]
        }
      ]
    },
    {
      "cell_type": "markdown",
      "source": [
        "# **RNN**"
      ],
      "metadata": {
        "id": "wDq5ffJVtOsI"
      }
    },
    {
      "cell_type": "code",
      "source": [
        "import torch\n",
        "import torch.nn as nn\n",
        "\n",
        "\n",
        "x = torch.randn(2, 5, 10)\n",
        "\n",
        "\n",
        "class SimpleRNN(nn.Module):\n",
        "    def __init__(self, input_size, hidden_size, output_size, num_layers=1):\n",
        "        super(SimpleRNN, self).__init__()\n",
        "        self.rnn = nn.RNN(input_size, hidden_size, num_layers, batch_first=True)\n",
        "        self.fc = nn.Linear(hidden_size, output_size)\n",
        "\n",
        "    def forward(self, x):\n",
        "        out, hidden = self.rnn(x)\n",
        "        out = self.fc(out[:, -1, :])\n",
        "        return out\n",
        "\n",
        "model = SimpleRNN(input_size=10, hidden_size=20, output_size=2, num_layers=1)\n",
        "\n",
        "\n",
        "y = model(x)\n",
        "print(y.shape)"
      ],
      "metadata": {
        "colab": {
          "base_uri": "https://localhost:8080/"
        },
        "id": "KlfciwzfsCly",
        "outputId": "39873b10-8c4d-409b-de9b-ccacd261c1e4"
      },
      "execution_count": null,
      "outputs": [
        {
          "output_type": "stream",
          "name": "stdout",
          "text": [
            "torch.Size([2, 2])\n"
          ]
        }
      ]
    },
    {
      "cell_type": "code",
      "source": [],
      "metadata": {
        "id": "5KwM4FT-tdGq"
      },
      "execution_count": null,
      "outputs": []
    }
  ]
}